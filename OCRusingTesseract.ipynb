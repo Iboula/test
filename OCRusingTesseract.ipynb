{
  "nbformat": 4,
  "nbformat_minor": 0,
  "metadata": {
    "colab": {
      "name": "OCRusingTesseract.ipynb",
      "provenance": [],
      "include_colab_link": true
    },
    "kernelspec": {
      "name": "python2",
      "display_name": "Python 2"
    }
  },
  "cells": [
    {
      "cell_type": "markdown",
      "metadata": {
        "id": "view-in-github",
        "colab_type": "text"
      },
      "source": [
        "<a href=\"https://colab.research.google.com/github/Iboula/test/blob/master/OCRusingTesseract.ipynb\" target=\"_parent\"><img src=\"https://colab.research.google.com/assets/colab-badge.svg\" alt=\"Open In Colab\"/></a>"
      ]
    },
    {
      "metadata": {
        "id": "uWwpI-24_Nob",
        "colab": {
          "base_uri": "https://localhost:8080/"
        },
        "outputId": "a2d1105f-0088-4bd7-b7be-a834423c5c0a"
      },
      "cell_type": "code",
      "source": [
        "!sudo apt install tesseract-ocr"
      ],
      "execution_count": 4,
      "outputs": [
        {
          "output_type": "stream",
          "name": "stdout",
          "text": [
            "Reading package lists... Done\n",
            "Building dependency tree... Done\n",
            "Reading state information... Done\n",
            "The following additional packages will be installed:\n",
            "  tesseract-ocr-eng tesseract-ocr-osd\n",
            "The following NEW packages will be installed:\n",
            "  tesseract-ocr tesseract-ocr-eng tesseract-ocr-osd\n",
            "0 upgraded, 3 newly installed, 0 to remove and 29 not upgraded.\n",
            "Need to get 4,816 kB of archives.\n",
            "After this operation, 15.6 MB of additional disk space will be used.\n",
            "Get:1 http://archive.ubuntu.com/ubuntu jammy/universe amd64 tesseract-ocr-eng all 1:4.00~git30-7274cfa-1.1 [1,591 kB]\n",
            "Get:2 http://archive.ubuntu.com/ubuntu jammy/universe amd64 tesseract-ocr-osd all 1:4.00~git30-7274cfa-1.1 [2,990 kB]\n",
            "Get:3 http://archive.ubuntu.com/ubuntu jammy/universe amd64 tesseract-ocr amd64 4.1.1-2.1build1 [236 kB]\n",
            "Fetched 4,816 kB in 1s (5,091 kB/s)\n",
            "debconf: unable to initialize frontend: Dialog\n",
            "debconf: (No usable dialog-like program is installed, so the dialog based frontend cannot be used. at /usr/share/perl5/Debconf/FrontEnd/Dialog.pm line 78, <> line 3.)\n",
            "debconf: falling back to frontend: Readline\n",
            "debconf: unable to initialize frontend: Readline\n",
            "debconf: (This frontend requires a controlling tty.)\n",
            "debconf: falling back to frontend: Teletype\n",
            "dpkg-preconfigure: unable to re-open stdin: \n",
            "Selecting previously unselected package tesseract-ocr-eng.\n",
            "(Reading database ... 124947 files and directories currently installed.)\n",
            "Preparing to unpack .../tesseract-ocr-eng_1%3a4.00~git30-7274cfa-1.1_all.deb ...\n",
            "Unpacking tesseract-ocr-eng (1:4.00~git30-7274cfa-1.1) ...\n",
            "Selecting previously unselected package tesseract-ocr-osd.\n",
            "Preparing to unpack .../tesseract-ocr-osd_1%3a4.00~git30-7274cfa-1.1_all.deb ...\n",
            "Unpacking tesseract-ocr-osd (1:4.00~git30-7274cfa-1.1) ...\n",
            "Selecting previously unselected package tesseract-ocr.\n",
            "Preparing to unpack .../tesseract-ocr_4.1.1-2.1build1_amd64.deb ...\n",
            "Unpacking tesseract-ocr (4.1.1-2.1build1) ...\n",
            "Setting up tesseract-ocr-eng (1:4.00~git30-7274cfa-1.1) ...\n",
            "Setting up tesseract-ocr-osd (1:4.00~git30-7274cfa-1.1) ...\n",
            "Setting up tesseract-ocr (4.1.1-2.1build1) ...\n",
            "Processing triggers for man-db (2.10.2-1) ...\n"
          ]
        }
      ]
    },
    {
      "metadata": {
        "id": "ujL16dZ2_O-3",
        "colab": {
          "base_uri": "https://localhost:8080/"
        },
        "outputId": "b5991299-4588-47f5-c39a-415dec90480f"
      },
      "cell_type": "code",
      "source": [
        "!pip install pytesseract opencv-python numpy"
      ],
      "execution_count": 13,
      "outputs": [
        {
          "output_type": "stream",
          "name": "stdout",
          "text": [
            "Requirement already satisfied: pytesseract in /usr/local/lib/python3.11/dist-packages (0.3.13)\n",
            "Requirement already satisfied: opencv-python in /usr/local/lib/python3.11/dist-packages (4.11.0.86)\n",
            "Requirement already satisfied: numpy in /usr/local/lib/python3.11/dist-packages (1.26.4)\n",
            "Requirement already satisfied: packaging>=21.3 in /usr/local/lib/python3.11/dist-packages (from pytesseract) (24.2)\n",
            "Requirement already satisfied: Pillow>=8.0.0 in /usr/local/lib/python3.11/dist-packages (from pytesseract) (11.1.0)\n"
          ]
        }
      ]
    },
    {
      "cell_type": "code",
      "source": [
        "!wget -P /usr/share/tesseract-ocr/4.00/tessdata/ https://github.com/tesseract-ocr/tessdata_best/raw/main/fra.traineddata"
      ],
      "metadata": {
        "id": "g3ho3ChTlTuw",
        "outputId": "c31f44ac-a01a-4b27-d8bf-aba538a6892e",
        "colab": {
          "base_uri": "https://localhost:8080/"
        }
      },
      "execution_count": 23,
      "outputs": [
        {
          "output_type": "stream",
          "name": "stdout",
          "text": [
            "--2025-02-28 03:24:18--  https://github.com/tesseract-ocr/tessdata_best/raw/main/fra.traineddata\n",
            "Resolving github.com (github.com)... 140.82.113.4\n",
            "Connecting to github.com (github.com)|140.82.113.4|:443... connected.\n",
            "HTTP request sent, awaiting response... 302 Found\n",
            "Location: https://raw.githubusercontent.com/tesseract-ocr/tessdata_best/main/fra.traineddata [following]\n",
            "--2025-02-28 03:24:19--  https://raw.githubusercontent.com/tesseract-ocr/tessdata_best/main/fra.traineddata\n",
            "Resolving raw.githubusercontent.com (raw.githubusercontent.com)... 185.199.109.133, 185.199.111.133, 185.199.110.133, ...\n",
            "Connecting to raw.githubusercontent.com (raw.githubusercontent.com)|185.199.109.133|:443... connected.\n",
            "HTTP request sent, awaiting response... 200 OK\n",
            "Length: 3972885 (3.8M) [application/octet-stream]\n",
            "Saving to: ‘/usr/share/tesseract-ocr/4.00/tessdata/fra.traineddata’\n",
            "\n",
            "fra.traineddata     100%[===================>]   3.79M  --.-KB/s    in 0.1s    \n",
            "\n",
            "2025-02-28 03:24:20 (32.4 MB/s) - ‘/usr/share/tesseract-ocr/4.00/tessdata/fra.traineddata’ saved [3972885/3972885]\n",
            "\n"
          ]
        }
      ]
    },
    {
      "cell_type": "code",
      "source": [
        "import os\n",
        "os.environ[\"TESSDATA_PREFIX\"] = \"/usr/share/tesseract-ocr/4.00/tessdata/\""
      ],
      "metadata": {
        "id": "zv5pES9HldrJ"
      },
      "execution_count": 24,
      "outputs": []
    },
    {
      "metadata": {
        "id": "8zmc-K_nAyg1",
        "colab": {
          "base_uri": "https://localhost:8080/",
          "height": 73
        },
        "outputId": "a5be94b7-1f1c-4036-844a-a62c0816e778"
      },
      "cell_type": "code",
      "source": [
        "from google.colab import files\n",
        "\n",
        "uploaded = files.upload()"
      ],
      "execution_count": 8,
      "outputs": [
        {
          "output_type": "display_data",
          "data": {
            "text/plain": [
              "<IPython.core.display.HTML object>"
            ],
            "text/html": [
              "\n",
              "     <input type=\"file\" id=\"files-d8fa52df-0848-4426-9a1f-71f0913c8be6\" name=\"files[]\" multiple disabled\n",
              "        style=\"border:none\" />\n",
              "     <output id=\"result-d8fa52df-0848-4426-9a1f-71f0913c8be6\">\n",
              "      Upload widget is only available when the cell has been executed in the\n",
              "      current browser session. Please rerun this cell to enable.\n",
              "      </output>\n",
              "      <script>// Copyright 2017 Google LLC\n",
              "//\n",
              "// Licensed under the Apache License, Version 2.0 (the \"License\");\n",
              "// you may not use this file except in compliance with the License.\n",
              "// You may obtain a copy of the License at\n",
              "//\n",
              "//      http://www.apache.org/licenses/LICENSE-2.0\n",
              "//\n",
              "// Unless required by applicable law or agreed to in writing, software\n",
              "// distributed under the License is distributed on an \"AS IS\" BASIS,\n",
              "// WITHOUT WARRANTIES OR CONDITIONS OF ANY KIND, either express or implied.\n",
              "// See the License for the specific language governing permissions and\n",
              "// limitations under the License.\n",
              "\n",
              "/**\n",
              " * @fileoverview Helpers for google.colab Python module.\n",
              " */\n",
              "(function(scope) {\n",
              "function span(text, styleAttributes = {}) {\n",
              "  const element = document.createElement('span');\n",
              "  element.textContent = text;\n",
              "  for (const key of Object.keys(styleAttributes)) {\n",
              "    element.style[key] = styleAttributes[key];\n",
              "  }\n",
              "  return element;\n",
              "}\n",
              "\n",
              "// Max number of bytes which will be uploaded at a time.\n",
              "const MAX_PAYLOAD_SIZE = 100 * 1024;\n",
              "\n",
              "function _uploadFiles(inputId, outputId) {\n",
              "  const steps = uploadFilesStep(inputId, outputId);\n",
              "  const outputElement = document.getElementById(outputId);\n",
              "  // Cache steps on the outputElement to make it available for the next call\n",
              "  // to uploadFilesContinue from Python.\n",
              "  outputElement.steps = steps;\n",
              "\n",
              "  return _uploadFilesContinue(outputId);\n",
              "}\n",
              "\n",
              "// This is roughly an async generator (not supported in the browser yet),\n",
              "// where there are multiple asynchronous steps and the Python side is going\n",
              "// to poll for completion of each step.\n",
              "// This uses a Promise to block the python side on completion of each step,\n",
              "// then passes the result of the previous step as the input to the next step.\n",
              "function _uploadFilesContinue(outputId) {\n",
              "  const outputElement = document.getElementById(outputId);\n",
              "  const steps = outputElement.steps;\n",
              "\n",
              "  const next = steps.next(outputElement.lastPromiseValue);\n",
              "  return Promise.resolve(next.value.promise).then((value) => {\n",
              "    // Cache the last promise value to make it available to the next\n",
              "    // step of the generator.\n",
              "    outputElement.lastPromiseValue = value;\n",
              "    return next.value.response;\n",
              "  });\n",
              "}\n",
              "\n",
              "/**\n",
              " * Generator function which is called between each async step of the upload\n",
              " * process.\n",
              " * @param {string} inputId Element ID of the input file picker element.\n",
              " * @param {string} outputId Element ID of the output display.\n",
              " * @return {!Iterable<!Object>} Iterable of next steps.\n",
              " */\n",
              "function* uploadFilesStep(inputId, outputId) {\n",
              "  const inputElement = document.getElementById(inputId);\n",
              "  inputElement.disabled = false;\n",
              "\n",
              "  const outputElement = document.getElementById(outputId);\n",
              "  outputElement.innerHTML = '';\n",
              "\n",
              "  const pickedPromise = new Promise((resolve) => {\n",
              "    inputElement.addEventListener('change', (e) => {\n",
              "      resolve(e.target.files);\n",
              "    });\n",
              "  });\n",
              "\n",
              "  const cancel = document.createElement('button');\n",
              "  inputElement.parentElement.appendChild(cancel);\n",
              "  cancel.textContent = 'Cancel upload';\n",
              "  const cancelPromise = new Promise((resolve) => {\n",
              "    cancel.onclick = () => {\n",
              "      resolve(null);\n",
              "    };\n",
              "  });\n",
              "\n",
              "  // Wait for the user to pick the files.\n",
              "  const files = yield {\n",
              "    promise: Promise.race([pickedPromise, cancelPromise]),\n",
              "    response: {\n",
              "      action: 'starting',\n",
              "    }\n",
              "  };\n",
              "\n",
              "  cancel.remove();\n",
              "\n",
              "  // Disable the input element since further picks are not allowed.\n",
              "  inputElement.disabled = true;\n",
              "\n",
              "  if (!files) {\n",
              "    return {\n",
              "      response: {\n",
              "        action: 'complete',\n",
              "      }\n",
              "    };\n",
              "  }\n",
              "\n",
              "  for (const file of files) {\n",
              "    const li = document.createElement('li');\n",
              "    li.append(span(file.name, {fontWeight: 'bold'}));\n",
              "    li.append(span(\n",
              "        `(${file.type || 'n/a'}) - ${file.size} bytes, ` +\n",
              "        `last modified: ${\n",
              "            file.lastModifiedDate ? file.lastModifiedDate.toLocaleDateString() :\n",
              "                                    'n/a'} - `));\n",
              "    const percent = span('0% done');\n",
              "    li.appendChild(percent);\n",
              "\n",
              "    outputElement.appendChild(li);\n",
              "\n",
              "    const fileDataPromise = new Promise((resolve) => {\n",
              "      const reader = new FileReader();\n",
              "      reader.onload = (e) => {\n",
              "        resolve(e.target.result);\n",
              "      };\n",
              "      reader.readAsArrayBuffer(file);\n",
              "    });\n",
              "    // Wait for the data to be ready.\n",
              "    let fileData = yield {\n",
              "      promise: fileDataPromise,\n",
              "      response: {\n",
              "        action: 'continue',\n",
              "      }\n",
              "    };\n",
              "\n",
              "    // Use a chunked sending to avoid message size limits. See b/62115660.\n",
              "    let position = 0;\n",
              "    do {\n",
              "      const length = Math.min(fileData.byteLength - position, MAX_PAYLOAD_SIZE);\n",
              "      const chunk = new Uint8Array(fileData, position, length);\n",
              "      position += length;\n",
              "\n",
              "      const base64 = btoa(String.fromCharCode.apply(null, chunk));\n",
              "      yield {\n",
              "        response: {\n",
              "          action: 'append',\n",
              "          file: file.name,\n",
              "          data: base64,\n",
              "        },\n",
              "      };\n",
              "\n",
              "      let percentDone = fileData.byteLength === 0 ?\n",
              "          100 :\n",
              "          Math.round((position / fileData.byteLength) * 100);\n",
              "      percent.textContent = `${percentDone}% done`;\n",
              "\n",
              "    } while (position < fileData.byteLength);\n",
              "  }\n",
              "\n",
              "  // All done.\n",
              "  yield {\n",
              "    response: {\n",
              "      action: 'complete',\n",
              "    }\n",
              "  };\n",
              "}\n",
              "\n",
              "scope.google = scope.google || {};\n",
              "scope.google.colab = scope.google.colab || {};\n",
              "scope.google.colab._files = {\n",
              "  _uploadFiles,\n",
              "  _uploadFilesContinue,\n",
              "};\n",
              "})(self);\n",
              "</script> "
            ]
          },
          "metadata": {}
        },
        {
          "output_type": "stream",
          "name": "stdout",
          "text": [
            "Saving senegal.license.exp1.png to senegal.license.exp1 (1).png\n"
          ]
        }
      ]
    },
    {
      "metadata": {
        "id": "HaM3cMUDA_Ma",
        "colab": {
          "base_uri": "https://localhost:8080/"
        },
        "outputId": "063fbf65-a901-458b-fa73-4c3adba21449"
      },
      "cell_type": "code",
      "source": [
        "import cv2\n",
        "\n",
        "img = cv2.imread(\"senegal.license.exp1.png\")\n",
        "gray = cv2.cvtColor(img, cv2.COLOR_BGR2GRAY)\n",
        "thresh = cv2.threshold(gray, 0, 255, cv2.THRESH_BINARY + cv2.THRESH_OTSU)[1]\n",
        "cv2.imwrite(\"senegal.license.exp1.tif\", thresh)"
      ],
      "execution_count": 27,
      "outputs": [
        {
          "output_type": "execute_result",
          "data": {
            "text/plain": [
              "True"
            ]
          },
          "metadata": {},
          "execution_count": 27
        }
      ]
    },
    {
      "metadata": {
        "id": "Key-3vILBNUd",
        "colab": {
          "base_uri": "https://localhost:8080/"
        },
        "outputId": "bd89ae03-e93a-4edf-ec79-a2ee2cc7eb81"
      },
      "cell_type": "code",
      "source": [
        "!tesseract senegal.license.exp1.tif senegal.license.exp1 -l fra batch.nochop makebox"
      ],
      "execution_count": 28,
      "outputs": [
        {
          "output_type": "stream",
          "name": "stdout",
          "text": [
            "Tesseract Open Source OCR Engine v4.1.1 with Leptonica\n",
            "Page 1\n",
            "Warning: Invalid resolution 0 dpi. Using 70 instead.\n",
            "Estimating resolution as 690\n",
            "Detected 132 diacritics\n"
          ]
        }
      ]
    },
    {
      "cell_type": "code",
      "source": [
        "!tesseract senegal.license.exp1.tif senegal.license.exp1 box.train"
      ],
      "metadata": {
        "id": "ft6pW0IUif3v",
        "outputId": "f98779e3-4c59-4c30-81a7-e416074818f9",
        "colab": {
          "base_uri": "https://localhost:8080/"
        }
      },
      "execution_count": 30,
      "outputs": [
        {
          "output_type": "stream",
          "name": "stdout",
          "text": [
            "Tesseract Open Source OCR Engine v4.1.1 with Leptonica\n",
            "Page 1\n",
            "Warning: Invalid resolution 0 dpi. Using 70 instead.\n",
            "Estimating resolution as 690\n",
            "Detected 132 diacritics\n",
            "row xheight=106.875, but median xheight = 55.5\n",
            "row xheight=112.667, but median xheight = 55.5\n",
            "row xheight=38, but median xheight = 55.5\n",
            "row xheight=36, but median xheight = 55.5\n",
            "row xheight=37, but median xheight = 55.5\n",
            "row xheight=41, but median xheight = 55.5\n",
            "row xheight=45, but median xheight = 55.5\n",
            "row xheight=563, but median xheight = 55.5\n",
            "FAIL!\n",
            "APPLY_BOXES: boxfile line 1/~ ((459,1280),(460,1450)): FAILURE! Couldn't find a matching blob\n",
            "APPLY_BOXES: boxfile line 7/M ((898,1266),(994,1381)): FAILURE! Couldn't find a matching blob\n",
            "FAIL!\n",
            "APPLY_BOXES: boxfile line 10/D ((1089,1285),(1090,1301)): FAILURE! Couldn't find a matching blob\n",
            "APPLY_BOXES: boxfile line 12/C ((1229,1277),(1311,1377)): FAILURE! Couldn't find a matching blob\n",
            "APPLY_BOXES: boxfile line 16/U ((1415,1277),(1493,1377)): FAILURE! Couldn't find a matching blob\n",
            "FAIL!\n",
            "APPLY_BOXES: boxfile line 21/B ((2171,1293),(2172,1346)): FAILURE! Couldn't find a matching blob\n",
            "FAIL!\n",
            "APPLY_BOXES: boxfile line 24/. ((909,1210),(912,1256)): FAILURE! Couldn't find a matching blob\n",
            "APPLY_BOXES: boxfile line 26/o ((991,1190),(1055,1258)): FAILURE! Couldn't find a matching blob\n",
            "APPLY_BOXES: boxfile line 28/D ((888,1065),(925,1187)): FAILURE! Couldn't find a matching blob\n",
            "FAIL!\n",
            "APPLY_BOXES: boxfile line 32/E ((1066,1065),(1202,1184)): FAILURE! Couldn't find a matching blob\n",
            "APPLY_BOXES: boxfile line 33/2 ((865,958),(913,1030)): FAILURE! Couldn't find a matching blob\n",
            "APPLY_BOXES: boxfile line 34/. ((887,972),(936,1026)): FAILURE! Couldn't find a matching blob\n",
            "APPLY_BOXES: boxfile line 36/r ((991,972),(1026,1039)): FAILURE! Couldn't find a matching blob\n",
            "FAIL!\n",
            "APPLY_BOXES: boxfile line 37/é ((1024,1008),(1051,1055)): FAILURE! Couldn't find a matching blob\n",
            "APPLY_BOXES: boxfile line 38/r ((1026,962),(1100,1011)): FAILURE! Couldn't find a matching blob\n",
            "FAIL!\n",
            "APPLY_BOXES: boxfile line 39/i ((1094,1019),(1101,1023)): FAILURE! Couldn't find a matching blob\n",
            "APPLY_BOXES: boxfile line 40/o ((1103,968),(1138,1041)): FAILURE! Couldn't find a matching blob\n",
            "FAIL!\n",
            "APPLY_BOXES: boxfile line 41/m ((1130,1065),(1140,1073)): FAILURE! Couldn't find a matching blob\n",
            "FAIL!\n",
            "APPLY_BOXES: boxfile line 43/. ((1216,956),(1230,967)): FAILURE! Couldn't find a matching blob\n",
            "FAIL!\n",
            "APPLY_BOXES: boxfile line 44/… ((1231,957),(1259,974)): FAILURE! Couldn't find a matching blob\n",
            "APPLY_BOXES: boxfile line 47/R ((932,830),(1018,958)): FAILURE! Couldn't find a matching blob\n",
            "APPLY_BOXES: boxfile line 48/A ((950,847),(1098,954)): FAILURE! Couldn't find a matching blob\n",
            "APPLY_BOXES: boxfile line 49/H ((1017,830),(1103,958)): FAILURE! Couldn't find a matching blob\n",
            "FAIL!\n",
            "APPLY_BOXES: boxfile line 51/M ((1146,946),(1148,948)): FAILURE! Couldn't find a matching blob\n",
            "APPLY_BOXES: boxfile line 52/A ((1123,834),(1236,951)): FAILURE! Couldn't find a matching blob\n",
            "APPLY_BOXES: boxfile line 53/- ((1220,887),(1244,937)): FAILURE! Couldn't find a matching blob\n",
            "FAIL!\n",
            "APPLY_BOXES: boxfile line 55/. ((921,738),(930,745)): FAILURE! Couldn't find a matching blob\n",
            "APPLY_BOXES: boxfile line 56/D ((941,728),(999,787)): FAILURE! Couldn't find a matching blob\n",
            "APPLY_BOXES: boxfile line 57/a ((974,728),(1023,810)): FAILURE! Couldn't find a matching blob\n",
            "APPLY_BOXES: boxfile line 58/t ((1002,732),(1038,810)): FAILURE! Couldn't find a matching blob\n",
            "FAIL!\n",
            "APPLY_BOXES: boxfile line 60/ê ((1124,782),(1134,790)): FAILURE! Couldn't find a matching blob\n",
            "FAIL!\n",
            "APPLY_BOXES: boxfile line 62/L ((1148,713),(1218,850)): FAILURE! Couldn't find a matching blob\n",
            "APPLY_BOXES: boxfile line 63/i ((1187,718),(1246,782)): FAILURE! Couldn't find a matching blob\n",
            "APPLY_BOXES: boxfile line 64/e ((1226,722),(1277,769)): FAILURE! Couldn't find a matching blob\n",
            "APPLY_BOXES: boxfile line 66/d ((1320,719),(1358,846)): FAILURE! Couldn't find a matching blob\n",
            "APPLY_BOXES: boxfile line 67/e ((1322,717),(1389,779)): FAILURE! Couldn't find a matching blob\n",
            "APPLY_BOXES: boxfile line 68/b ((1412,707),(1463,856)): FAILURE! Couldn't find a matching blob\n",
            "FAIL!\n",
            "APPLY_BOXES: boxfile line 71/s ((1521,850),(1523,852)): FAILURE! Couldn't find a matching blob\n",
            "APPLY_BOXES: boxfile line 73/a ((1561,707),(1612,856)): FAILURE! Couldn't find a matching blob\n",
            "APPLY_BOXES: boxfile line 77/0 ((836,598),(926,731)): FAILURE! Couldn't find a matching blob\n",
            "FAIL!\n",
            "APPLY_BOXES: boxfile line 79// ((925,598),(970,731)): FAILURE! Couldn't find a matching blob\n",
            "FAIL!\n",
            "APPLY_BOXES: boxfile line 81/7 ((1015,703),(1017,707)): FAILURE! Couldn't find a matching blob\n",
            "APPLY_BOXES: boxfile line 82// ((1019,602),(1064,715)): FAILURE! Couldn't find a matching blob\n",
            "FAIL!\n",
            "APPLY_BOXES: boxfile line 84/9 ((1133,631),(1153,649)): FAILURE! Couldn't find a matching blob\n",
            "APPLY_BOXES: boxfile line 85/9 ((1116,603),(1233,724)): FAILURE! Couldn't find a matching blob\n",
            "APPLY_BOXES: boxfile line 87/D ((1229,579),(1301,722)): FAILURE! Couldn't find a matching blob\n",
            "APPLY_BOXES: boxfile line 88/a ((1257,583),(1311,707)): FAILURE! Couldn't find a matching blob\n",
            "APPLY_BOXES: boxfile line 89/k ((1312,579),(1385,722)): FAILURE! Couldn't find a matching blob\n",
            "APPLY_BOXES: boxfile line 90/a ((1307,632),(1432,704)): FAILURE! Couldn't find a matching blob\n",
            "APPLY_BOXES: boxfile line 91/r ((1404,637),(1422,644)): FAILURE! Couldn't find a matching blob\n",
            "FAIL!\n",
            "APPLY_BOXES: boxfile line 93/a ((887,464),(924,574)): FAILURE! Couldn't find a matching blob\n",
            "APPLY_BOXES: boxfile line 94/. ((909,468),(961,553)): FAILURE! Couldn't find a matching blob\n",
            "FAIL!\n",
            "APPLY_BOXES: boxfile line 95/D ((934,406),(1034,604)): FAILURE! Couldn't find a matching blob\n",
            "APPLY_BOXES: boxfile line 97/t ((1067,496),(1091,592)): FAILURE! Couldn't find a matching blob\n",
            "APPLY_BOXES: boxfile line 98/a ((1083,406),(1116,604)): FAILURE! Couldn't find a matching blob\n",
            "APPLY_BOXES: boxfile line 99/c ((1116,484),(1184,549)): FAILURE! Couldn't find a matching blob\n",
            "APPLY_BOXES: boxfile line 100/' ((1171,476),(1197,593)): FAILURE! Couldn't find a matching blob\n",
            "FAIL!\n",
            "APPLY_BOXES: boxfile line 102/i ((1256,545),(1304,583)): FAILURE! Couldn't find a matching blob\n",
            "APPLY_BOXES: boxfile line 103/s ((1235,490),(1373,600)): FAILURE! Couldn't find a matching blob\n",
            "APPLY_BOXES: boxfile line 104/s ((1330,406),(1364,604)): FAILURE! Couldn't find a matching blob\n",
            "APPLY_BOXES: boxfile line 105/i ((1347,406),(1380,604)): FAILURE! Couldn't find a matching blob\n",
            "APPLY_BOXES: boxfile line 106/o ((1375,492),(1387,543)): FAILURE! Couldn't find a matching blob\n",
            "APPLY_BOXES: boxfile line 111/0 ((1588,481),(1648,542)): FAILURE! Couldn't find a matching blob\n",
            "APPLY_BOXES: boxfile line 118/O ((1953,473),(1992,530)): FAILURE! Couldn't find a matching blob\n",
            "FAIL!\n",
            "APPLY_BOXES: boxfile line 120/d ((1282,328),(1314,417)): FAILURE! Couldn't find a matching blob\n",
            "APPLY_BOXES: boxfile line 121/r ((1305,385),(1333,469)): FAILURE! Couldn't find a matching blob\n",
            "APPLY_BOXES: boxfile line 122/a ((1322,380),(1381,455)): FAILURE! Couldn't find a matching blob\n",
            "APPLY_BOXES: boxfile line 123/t ((1378,378),(1415,463)): FAILURE! Couldn't find a matching blob\n",
            "APPLY_BOXES: boxfile line 124/i ((1397,376),(1413,467)): FAILURE! Couldn't find a matching blob\n",
            "FAIL!\n",
            "APPLY_BOXES: boxfile line 125/o ((1413,375),(1419,379)): FAILURE! Couldn't find a matching blob\n",
            "APPLY_BOXES: boxfile line 128/3 ((1526,383),(1586,471)): FAILURE! Couldn't find a matching blob\n",
            "FAIL!\n",
            "APPLY_BOXES: boxfile line 130/0 ((1585,383),(1644,471)): FAILURE! Couldn't find a matching blob\n",
            "FAIL!\n",
            "APPLY_BOXES: boxfile line 135/2 ((1746,383),(1806,471)): FAILURE! Couldn't find a matching blob\n",
            "APPLY_BOXES: boxfile line 138/c ((867,328),(939,384)): FAILURE! Couldn't find a matching blob\n",
            "APPLY_BOXES: boxfile line 139/. ((909,328),(939,384)): FAILURE! Couldn't find a matching blob\n",
            "APPLY_BOXES: boxfile line 140/D ((978,326),(1032,386)): FAILURE! Couldn't find a matching blob\n",
            "FAIL!\n",
            "APPLY_BOXES: boxfile line 142/l ((1039,326),(1086,386)): FAILURE! Couldn't find a matching blob\n",
            "FAIL!\n",
            "APPLY_BOXES: boxfile line 143/i ((1062,326),(1109,386)): FAILURE! Couldn't find a matching blob\n",
            "APPLY_BOXES: boxfile line 144/v ((1085,326),(1132,386)): FAILURE! Couldn't find a matching blob\n",
            "FAIL!\n",
            "APPLY_BOXES: boxfile line 148/a ((1203,326),(1204,386)): FAILURE! Couldn't find a matching blob\n",
            "FAIL!\n",
            "APPLY_BOXES: boxfile line 149/r ((1203,326),(1204,386)): FAILURE! Couldn't find a matching blob\n",
            "APPLY_BOXES: boxfile line 153/T ((1560,303),(1638,361)): FAILURE! Couldn't find a matching blob\n",
            "APPLY_BOXES: boxfile line 158/N ((910,222),(984,369)): FAILURE! Couldn't find a matching blob\n",
            "APPLY_BOXES: boxfile line 159/° ((939,239),(1009,294)): FAILURE! Couldn't find a matching blob\n",
            "APPLY_BOXES: boxfile line 161/o ((1045,222),(1119,369)): FAILURE! Couldn't find a matching blob\n",
            "APPLY_BOXES: boxfile line 167/4 ((1597,212),(1655,299)): FAILURE! Couldn't find a matching blob\n",
            "FAIL!\n",
            "APPLY_BOXES: boxfile line 169/9 ((1669,212),(1728,299)): FAILURE! Couldn't find a matching blob\n",
            "FAIL!\n",
            "APPLY_BOXES: boxfile line 174/. ((871,159),(897,213)): FAILURE! Couldn't find a matching blob\n",
            "APPLY_BOXES: boxfile line 175/C ((935,140),(990,214)): FAILURE! Couldn't find a matching blob\n",
            "APPLY_BOXES: boxfile line 177/t ((989,140),(1057,214)): FAILURE! Couldn't find a matching blob\n",
            "APPLY_BOXES: boxfile line 178/é ((1031,140),(1083,214)): FAILURE! Couldn't find a matching blob\n",
            "APPLY_BOXES: boxfile line 179/g ((1056,140),(1108,214)): FAILURE! Couldn't find a matching blob\n",
            "APPLY_BOXES: boxfile line 180/o ((1082,140),(1150,214)): FAILURE! Couldn't find a matching blob\n",
            "FAIL!\n",
            "APPLY_BOXES: boxfile line 182/i ((1157,140),(1209,214)): FAILURE! Couldn't find a matching blob\n",
            "FAIL!\n",
            "APPLY_BOXES: boxfile line 183/e ((1183,140),(1234,214)): FAILURE! Couldn't find a matching blob\n",
            "FAIL!\n",
            "APPLY_BOXES: boxfile line 184/s ((1208,140),(1264,214)): FAILURE! Couldn't find a matching blob\n",
            "FAIL!\n",
            "APPLY_BOXES: boxfile line 186/- ((1410,132),(1411,145)): FAILURE! Couldn't find a matching blob\n",
            "APPLY_BOXES:\n",
            "   Boxes read from boxfile:     192\n",
            "   Boxes failed resegmentation:      97\n",
            "APPLY_BOXES: Unlabelled word at :Bounding box=(459,1280)->(460,1450)\n",
            "APPLY_BOXES: Unlabelled word at :Bounding box=(887,972)->(936,1026)\n",
            "APPLY_BOXES: Unlabelled word at :Bounding box=(1257,583)->(1513,707)\n",
            "APPLY_BOXES: Unlabelled word at :Bounding box=(1342,311)->(1360,315)\n",
            "APPLY_BOXES: Unlabelled word at :Bounding box=(1340,132)->(1367,145)\n",
            "APPLY_BOXES: Unlabelled word at :Bounding box=(19,80)->(1334,1206)\n",
            "   Found 95 good blobs.\n",
            "   Leaving 81 unlabelled blobs in 0 words.\n",
            "   6 remaining unlabelled words deleted.\n",
            "Generated training data for 38 words\n"
          ]
        }
      ]
    },
    {
      "cell_type": "code",
      "source": [
        "!unicharset_extractor senegal.license.exp1.box"
      ],
      "metadata": {
        "id": "Tbdz-v8AikHx",
        "outputId": "8d7e71ad-c724-420a-a96a-7afbd7f36793",
        "colab": {
          "base_uri": "https://localhost:8080/"
        }
      },
      "execution_count": 32,
      "outputs": [
        {
          "output_type": "stream",
          "name": "stdout",
          "text": [
            "Extracting unicharset from box file senegal.license.exp1.box\n",
            "Other case h of H is not in unicharset\n",
            "Other case É of é is not in unicharset\n",
            "Other case Ê of ê is not in unicharset\n",
            "Other case K of k is not in unicharset\n",
            "Other case V of v is not in unicharset\n",
            "Other case È of è is not in unicharset\n",
            "Other case G of g is not in unicharset\n",
            "Mirror } of { is not in unicharset\n",
            "Wrote unicharset file unicharset\n"
          ]
        }
      ]
    },
    {
      "cell_type": "code",
      "source": [
        "!echo license 0 0 0 0 0 > font_properties"
      ],
      "metadata": {
        "id": "devYjGtnoNmB"
      },
      "execution_count": 35,
      "outputs": []
    },
    {
      "cell_type": "code",
      "source": [
        "!shapeclustering -F font_properties -U unicharset -O senegal.unicharset senegal.license.exp1.tr"
      ],
      "metadata": {
        "id": "d9-JyV1voTh5",
        "outputId": "af7b7bbe-aafc-46fa-9c6f-6bf1c3515e2c",
        "colab": {
          "base_uri": "https://localhost:8080/"
        }
      },
      "execution_count": 36,
      "outputs": [
        {
          "output_type": "stream",
          "name": "stdout",
          "text": [
            "Reading senegal.license.exp1.tr ...\n",
            "Building master shape table\n",
            "Computing shape distances...\n",
            "Stopped with 0 merged, min dist 999.000000\n",
            "Computing shape distances...\n",
            "Stopped with 0 merged, min dist 999.000000\n",
            "Computing shape distances...\n",
            "Stopped with 0 merged, min dist 999.000000\n",
            "Computing shape distances... 0\n",
            "Stopped with 0 merged, min dist 999.000000\n",
            "Computing shape distances... 0\n",
            "Stopped with 0 merged, min dist 999.000000\n",
            "Computing shape distances... 0\n",
            "Stopped with 0 merged, min dist 999.000000\n",
            "Computing shape distances... 0\n",
            "Stopped with 0 merged, min dist 999.000000\n",
            "Computing shape distances... 0\n",
            "Stopped with 0 merged, min dist 999.000000\n",
            "Computing shape distances... 0\n",
            "Stopped with 0 merged, min dist 999.000000\n",
            "Computing shape distances... 0\n",
            "Stopped with 0 merged, min dist 999.000000\n",
            "Computing shape distances... 0\n",
            "Stopped with 0 merged, min dist 999.000000\n",
            "Computing shape distances... 0\n",
            "Stopped with 0 merged, min dist 999.000000\n",
            "Computing shape distances...\n",
            "Stopped with 0 merged, min dist 999.000000\n",
            "Computing shape distances... 0\n",
            "Stopped with 0 merged, min dist 999.000000\n",
            "Computing shape distances...\n",
            "Stopped with 0 merged, min dist 999.000000\n",
            "Computing shape distances... 0\n",
            "Stopped with 0 merged, min dist 999.000000\n",
            "Computing shape distances... 0\n",
            "Stopped with 0 merged, min dist 999.000000\n",
            "Computing shape distances... 0\n",
            "Stopped with 0 merged, min dist 999.000000\n",
            "Computing shape distances...\n",
            "Stopped with 0 merged, min dist 999.000000\n",
            "Computing shape distances...\n",
            "Stopped with 0 merged, min dist 999.000000\n",
            "Computing shape distances... 0\n",
            "Stopped with 0 merged, min dist 999.000000\n",
            "Computing shape distances... 0\n",
            "Stopped with 0 merged, min dist 999.000000\n",
            "Computing shape distances... 0\n",
            "Stopped with 0 merged, min dist 999.000000\n",
            "Computing shape distances... 0\n",
            "Stopped with 0 merged, min dist 999.000000\n",
            "Computing shape distances... 0\n",
            "Stopped with 0 merged, min dist 999.000000\n",
            "Computing shape distances... 0\n",
            "Stopped with 0 merged, min dist 999.000000\n",
            "Computing shape distances...\n",
            "Stopped with 0 merged, min dist 999.000000\n",
            "Computing shape distances... 0\n",
            "Stopped with 0 merged, min dist 999.000000\n",
            "Computing shape distances...\n",
            "Stopped with 0 merged, min dist 999.000000\n",
            "Computing shape distances... 0\n",
            "Stopped with 0 merged, min dist 999.000000\n",
            "Computing shape distances... 0\n",
            "Stopped with 0 merged, min dist 999.000000\n",
            "Computing shape distances... 0\n",
            "Stopped with 0 merged, min dist 999.000000\n",
            "Computing shape distances... 0\n",
            "Stopped with 0 merged, min dist 999.000000\n",
            "Computing shape distances...\n",
            "Stopped with 0 merged, min dist 999.000000\n",
            "Computing shape distances...\n",
            "Stopped with 0 merged, min dist 999.000000\n",
            "Computing shape distances... 0\n",
            "Stopped with 0 merged, min dist 999.000000\n",
            "Computing shape distances... 0\n",
            "Stopped with 0 merged, min dist 999.000000\n",
            "Computing shape distances...\n",
            "Stopped with 0 merged, min dist 999.000000\n",
            "Computing shape distances... 0\n",
            "Stopped with 0 merged, min dist 999.000000\n",
            "Computing shape distances... 0\n",
            "Stopped with 0 merged, min dist 999.000000\n",
            "Computing shape distances... 0\n",
            "Stopped with 0 merged, min dist 999.000000\n",
            "Computing shape distances... 0\n",
            "Stopped with 0 merged, min dist 999.000000\n",
            "Computing shape distances... 0\n",
            "Stopped with 0 merged, min dist 999.000000\n",
            "Computing shape distances... 0\n",
            "Stopped with 0 merged, min dist 999.000000\n",
            "Computing shape distances...\n",
            "Stopped with 0 merged, min dist 999.000000\n",
            "Computing shape distances...\n",
            "Stopped with 0 merged, min dist 999.000000\n",
            "Computing shape distances... 0\n",
            "Stopped with 0 merged, min dist 999.000000\n",
            "Computing shape distances... 0\n",
            "Stopped with 0 merged, min dist 999.000000\n",
            "Computing shape distances...\n",
            "Stopped with 0 merged, min dist 999.000000\n",
            "Computing shape distances...\n",
            "Stopped with 0 merged, min dist 999.000000\n",
            "Computing shape distances... 0\n",
            "Stopped with 0 merged, min dist 999.000000\n",
            "Computing shape distances... 0\n",
            "Stopped with 0 merged, min dist 999.000000\n",
            "Computing shape distances...\n",
            "Stopped with 0 merged, min dist 999.000000\n",
            "Computing shape distances... 0\n",
            "Stopped with 0 merged, min dist 999.000000\n",
            "Computing shape distances...\n",
            "Stopped with 0 merged, min dist 999.000000\n",
            "Computing shape distances... 0\n",
            "Stopped with 0 merged, min dist 999.000000\n",
            "Computing shape distances... 0\n",
            "Stopped with 0 merged, min dist 999.000000\n",
            "Computing shape distances...\n",
            "Stopped with 0 merged, min dist 999.000000\n",
            "Computing shape distances... 0\n",
            "Stopped with 0 merged, min dist 999.000000\n",
            "Computing shape distances... 0\n",
            "Stopped with 0 merged, min dist 999.000000\n",
            "Computing shape distances...\n",
            "Stopped with 0 merged, min dist 999.000000\n",
            "Computing shape distances...\n",
            "Stopped with 0 merged, min dist 999.000000\n",
            "Computing shape distances... 0 1 2 3 4 5 6 7 8 9 10 11 12 13 14 15 16 17 18 19 20 21 22 23 24 25 26 27 28 29 30 31 32 33 34 35 36 37 38 39 40\n",
            "Stopped with 0 merged, min dist 0.177778\n",
            "Master shape_table:Number of shapes = 41 max unichars = 1 number with multiple unichars = 0\n"
          ]
        }
      ]
    },
    {
      "cell_type": "code",
      "source": [
        "!mftraining -F font_properties -U unicharset -O senegal.unicharset senegal.license.exp1.tr"
      ],
      "metadata": {
        "id": "lBJ_42K3obiN",
        "outputId": "0fa1be2e-21f8-42ca-bcca-9485968a5bb3",
        "colab": {
          "base_uri": "https://localhost:8080/"
        }
      },
      "execution_count": 37,
      "outputs": [
        {
          "output_type": "stream",
          "name": "stdout",
          "text": [
            "Read shape table shapetable of 41 shapes\n",
            "Reading senegal.license.exp1.tr ...\n",
            "Warning: no protos/configs for Joined in CreateIntTemplates()\n",
            "Warning: no protos/configs for |Broken|0|1 in CreateIntTemplates()\n",
            "Warning: no protos/configs for C in CreateIntTemplates()\n",
            "Warning: no protos/configs for U in CreateIntTemplates()\n",
            "Warning: no protos/configs for . in CreateIntTemplates()\n",
            "Warning: no protos/configs for o in CreateIntTemplates()\n",
            "Warning: no protos/configs for … in CreateIntTemplates()\n",
            "Warning: no protos/configs for - in CreateIntTemplates()\n",
            "Warning: no protos/configs for ê in CreateIntTemplates()\n",
            "Warning: no protos/configs for L in CreateIntTemplates()\n",
            "Warning: no protos/configs for b in CreateIntTemplates()\n",
            "Warning: no protos/configs for k in CreateIntTemplates()\n",
            "Warning: no protos/configs for ' in CreateIntTemplates()\n",
            "Warning: no protos/configs for l in CreateIntTemplates()\n",
            "Warning: no protos/configs for v in CreateIntTemplates()\n",
            "Warning: no protos/configs for T in CreateIntTemplates()\n",
            "Warning: no protos/configs for ° in CreateIntTemplates()\n",
            "Warning: no protos/configs for g in CreateIntTemplates()\n",
            "Done!\n"
          ]
        }
      ]
    },
    {
      "cell_type": "code",
      "source": [
        "!cntraining senegal.license.exp1.tr"
      ],
      "metadata": {
        "id": "5rmZIjA3ojR1",
        "outputId": "b5bd209a-142b-4dd2-a79d-2be3ed839767",
        "colab": {
          "base_uri": "https://localhost:8080/"
        }
      },
      "execution_count": 38,
      "outputs": [
        {
          "output_type": "stream",
          "name": "stdout",
          "text": [
            "Reading senegal.license.exp1.tr ...\n",
            "Clustering ...\n",
            "\n",
            "Writing normproto ...\n"
          ]
        }
      ]
    },
    {
      "metadata": {
        "id": "aw9nJoeqBWZP",
        "colab": {
          "base_uri": "https://localhost:8080/"
        },
        "outputId": "a08a2176-c96a-4bed-af2c-c8cd2a517616"
      },
      "cell_type": "code",
      "source": [
        "!combine_tessdata senegal"
      ],
      "execution_count": 40,
      "outputs": [
        {
          "output_type": "stream",
          "name": "stdout",
          "text": [
            "Combining tessdata files\n",
            "Error: traineddata file must contain at least (a unicharset fileand inttemp) OR an lstm file.\n",
            "Error combining tessdata files into senegal.traineddata\n",
            "Version string:4.1.1\n",
            "1:unicharset:size=3345, offset=192\n",
            "23:version:size=5, offset=3537\n"
          ]
        }
      ]
    }
  ]
}